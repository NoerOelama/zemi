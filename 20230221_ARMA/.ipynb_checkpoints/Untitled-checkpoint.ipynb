{
 "cells": [
  {
   "cell_type": "code",
   "execution_count": null,
   "id": "5cb827dd",
   "metadata": {},
   "outputs": [],
   "source": [
    "import pandas as pd\n",
    "#import numpy as np\n",
    "import matplotlib.pyplot as plt\n",
    "import statsmodels.api as sm\n",
    "from PythonTsa.plot_acf_pacf import acf_pacf_fig\n",
    "from PythonTsa.Selecting_arma import choose_arma\n",
    "#from statsmodels.tsa.arima_model import ARMA\n",
    "from scipy import stats\n",
    "from PythonTsa.ModResidDiag import plot_ResidDiag\n",
    "tep = pd.read_csv('Global mean surface air temp changes 1880-1985.csv',  header = None)\n",
    "dates = pd.date_range('1880-12',periods = len(tep),freq = 'A-DEC')\n",
    "tep.index = dates\n",
    "tepts = pd.Series(tep[0])\n",
    "# equivalent to 'tepts = tep[0]'\n",
    "plt.plot(tepts, color = 'b'); plt.show();\n",
    "#plt.savefig('pyTSA_AirTempChange_fig4-11.png', dpi = 1200,  bbox_inches ='tight', transparent = True, legend = None);\n",
    "dtepts = tepts.diff(1)\n",
    "dtepts = dtepts.dropna()\n",
    "plt.plot(dtepts, color = 'b'); plt.show()\n",
    "#plt.savefig('pyTSA_AirTempChange_fig4-12.png', dpi = 1200,  bbox_inches ='tight', transparent = True, legend = None);\n",
    "sm.tsa.kpss(dtepts, regression = 'c', lags = 'auto')\n",
    "acf_pacf_fig(dtepts, both = True, lag = 20)\n",
    "#plt.savefig('pyTSA_AirTempChange_fig4-13.png', dpi = 1200,  bbox_inches ='tight', transparent = True, legend = None);\n",
    "choose_arma(dtepts, max_p = 7, max_q = 7, ctrl = 1.03)\n",
    "inf = sm.tsa.arma_order_select_ic(dtepts, max_ar = 7,\n",
    "\t\t\t\t\t\t\t\tmax_ma = 7, ic = ['aic', 'bic', 'hqic'], trend = 'c')\n",
    "inf.aic_min_order\n",
    "inf.bic_min_order\n",
    "inf.hqic_min_order\n",
    "arma11 = sm.tsa.ARMA(dtepts, order = (1,1)).fit(trend = 'c')\n",
    "print(arma11.summary())\n",
    "resid11 = arma11.resid\n",
    "stats.normaltest(resid11)\n",
    "plot_ResidDiag(resid11,noestimatedcoef = 2,nolags = 20,lag = 25)\n",
    "#plt.savefig('pyTSA_AirTempChange_fig4-15.png', dpi = 1200,  bbox_inches ='tight', transparent = True, legend = None);\n",
    "# noestimatedcoef = number of estimated coefficients\n",
    "# nolags = max number of added terms in LB statistic.\n",
    "#lag = number of lags for ACF\n",
    "arma11.plot_predict(start = '1960-12', end = '1990-12')\n",
    "#plt.savefig('pyTSA_AirTempChange_fig4-14.png', dpi = 1200,  bbox_inches ='tight', transparent = True, legend = None);\n",
    "plt.show()"
   ]
  }
 ],
 "metadata": {
  "kernelspec": {
   "display_name": "Python 3 (ipykernel)",
   "language": "python",
   "name": "python3"
  },
  "language_info": {
   "codemirror_mode": {
    "name": "ipython",
    "version": 3
   },
   "file_extension": ".py",
   "mimetype": "text/x-python",
   "name": "python",
   "nbconvert_exporter": "python",
   "pygments_lexer": "ipython3",
   "version": "3.10.9"
  }
 },
 "nbformat": 4,
 "nbformat_minor": 5
}
