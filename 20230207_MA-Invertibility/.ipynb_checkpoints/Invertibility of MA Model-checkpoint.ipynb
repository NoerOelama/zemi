{
 "cells": [
  {
   "cell_type": "markdown",
   "id": "6a5d77ee",
   "metadata": {},
   "source": [
    "# The Invertibility of MA Model\n",
    "### Arif Nurwahid\n",
    "Seminar on 7 Feb 2023"
   ]
  },
  {
   "cell_type": "markdown",
   "id": "f40fa822",
   "metadata": {},
   "source": [
    "### Backshift Operator _B_ Notation"
   ]
  },
  {
   "cell_type": "markdown",
   "id": "5ac34300",
   "metadata": {},
   "source": [
    "Using **B** before either a value of the series $X_t$ or an error term $\\epsilon_t$ means to move that element back one time. For instance,\n",
    "\n",
    "$B X_t = X_{t-1}$\n",
    "\n",
    "\n",
    "A **power** of **B** means to repeatedly apply the backshift in order to move back a number of time periods that equals the **power**. As an example,\n",
    "\n",
    "$B^4 X_t = X_{t-4}$"
   ]
  },
  {
   "cell_type": "markdown",
   "id": "d1c6899e",
   "metadata": {},
   "source": [
    "### MA Polynomial\n",
    "Using the backshift operator *B*, the MA(q) model can be rewritten as follows:\n",
    "\n",
    "$X_t = \\theta(B) \\epsilon_t$\n",
    "\n",
    "where $\\theta(z) = 1+\\theta_1 z+\\theta_2 z^2 + \\cdots + \\theta_q z^q$ is the MA Polynomial."
   ]
  },
  {
   "cell_type": "markdown",
   "id": "913e590b",
   "metadata": {},
   "source": [
    "### Invertibility\n",
    "Let $\\{\\epsilon_t\\}\\sim WN(0,\\sigma^2_{\\epsilon})$. \n",
    "\n",
    "Consider MA(1) Model $X_t=\\epsilon_t-\\theta \\epsilon_{t-1}$\n",
    "\n",
    "\n",
    "We may write above model as:\n",
    "\n",
    "$\\epsilon_t=X_t + \\theta \\epsilon_{t-1} = X_t + \\theta (X_{t-1} + \\theta \\epsilon_{t-2})=X_t + \\theta X_{t-1} + \\theta^2 \\epsilon_{t-2}$"
   ]
  },
  {
   "cell_type": "markdown",
   "id": "48f4bf23",
   "metadata": {},
   "source": [
    "By repeating the substitution process, we will have\n",
    "\n",
    "$\\epsilon_t = \\displaystyle\\sum_{j=0}^{\\infty} \\theta^j X_{t-j}$, with $|\\theta|<1$"
   ]
  },
  {
   "cell_type": "markdown",
   "id": "62cabc0b",
   "metadata": {},
   "source": [
    "#### Theorem 1\n",
    "The MA(1) Model given by $X_t=\\epsilon_t-\\theta \\epsilon_{t-1}$ is invertible if $|\\theta|<1$"
   ]
  },
  {
   "cell_type": "markdown",
   "id": "5e73ddc6",
   "metadata": {},
   "source": [
    "We can justify that $|\\theta|<1$ is necessary by calculating the variance of previous equation.\n",
    "\n",
    "$\\sigma^2_{\\epsilon} = Var(\\epsilon_t) = \\displaystyle Var\\left(\\sum_{j=0}^{\\infty} \\theta^j X_{t-j}\\right) = \\sum_{j=0}^{\\infty} \\theta^{2j} Var(X_{t-j}) = \\gamma_0 \\sum_{j=0}^{\\infty} \\theta^{2j} = \\frac{\\gamma_0}{1-\\theta^2}$"
   ]
  },
  {
   "cell_type": "markdown",
   "id": "44b81497",
   "metadata": {},
   "source": [
    "Furthermore, the condition $|\\theta|<1$ guarantees the summability of $\\displaystyle\\sum_{j=0}^{\\infty} \\theta^j < \\infty$ and $\\displaystyle\\sum_{j=0}^{\\infty} (\\theta^j)^2 < \\infty $"
   ]
  },
  {
   "cell_type": "markdown",
   "id": "42dcdd34",
   "metadata": {},
   "source": [
    "#### Corollary 2\n",
    "The MA(1) process given by $X_t=\\epsilon_t-\\theta \\epsilon_{t-1} = (1-\\theta B) \\epsilon_t$ is invertible\n",
    "if the root of MA polynomial $1-\\theta z=0$ is outside the unit circle. That is, the root satisfies $|z| > 1$."
   ]
  },
  {
   "cell_type": "markdown",
   "id": "e3f5c5a6",
   "metadata": {},
   "source": [
    "#### Proof\n",
    "The solution $1-\\theta z = 0$ implies the solution is $z=1/\\theta$. Therefore, the invertibility condition $|\\theta|<1$ is equivalent to $|z|>1$."
   ]
  },
  {
   "cell_type": "markdown",
   "id": "ddecfbb3",
   "metadata": {},
   "source": [
    "#### Example\n",
    "Suppose that an MA(1) model is $X_t=\\epsilon_t+.7\\epsilon_{t-1}$, where $\\epsilon_t\\sim WN(0,1)$.\n",
    "\n",
    "This is invertible since the coefficient $|\\theta|=0.7 < 1$. Therefore, we have the following invertible solution\n",
    "\n",
    "$\\epsilon_t = \\displaystyle\\sum_{j=0}^{\\infty} 0.7^j X_{t-j}$."
   ]
  },
  {
   "cell_type": "markdown",
   "id": "d2b479e3",
   "metadata": {},
   "source": [
    "---\n",
    "### Invertibility of MA(q) Model"
   ]
  },
  {
   "cell_type": "markdown",
   "id": "a7d2b949",
   "metadata": {},
   "source": [
    "#### Theorem 2\n",
    "Consider an MA(q) model given by $X_t=\\theta(B) \\epsilon_t$; $\\{\\epsilon_t\\}\\sim WN(0,\\sigma^2_{\\epsilon})$. \n",
    "\n",
    "If all the roots of the associated algebraic equation $\\theta(z) = 0$ lie outside the unit circle (i.e. the roots $|\\delta_i| > 1$; $i = 1, 2,\\cdots, q$), then there exists a valid invertible solution."
   ]
  },
  {
   "cell_type": "markdown",
   "id": "b5c22476",
   "metadata": {},
   "source": [
    "#### Proof\n",
    "The fundamental theorem in algebra states that any polynomial of degree $q$ can be factorized into $q$ linear factors such that\n",
    "\n",
    "$\\theta (z) = (1-\\beta_1 z)(1-\\beta_2 z)\\cdots (1-\\beta_q z)$\n",
    "\n",
    "Here, we have $\\epsilon_t = (1-\\beta_1 B)^{-1} (1-\\beta_2 B)^{-1} \\cdots (1-\\beta_q B)^{-1} X_t$."
   ]
  },
  {
   "cell_type": "markdown",
   "id": "0fe1b692",
   "metadata": {},
   "source": [
    "From the previous argument, it is clear that each linear factor has a valid inversion if $|\\beta_i|<1$ for all $i=1,2,\\cdots,q$. This is equivalent to the argument that the roots of $\\theta(z)=0$ satisfy $|z|>1$.\n",
    "\n",
    "This is clear since the roots of $\\theta(z)=0$ are $\\frac{1}{\\beta_1},\\frac{1}{\\beta_2},\\cdots,\\frac{1}{\\beta_q}$, then $|\\beta_i|<1$ (as convergence requirement) implies the result."
   ]
  },
  {
   "cell_type": "markdown",
   "id": "2cb84936",
   "metadata": {},
   "source": [
    "#### Note\n",
    "This invertibility of an MA model is very important in practice. The main reason is that the unobservable $\\epsilon_t$ can be expressed as a linear combination of the observable $X_t$."
   ]
  },
  {
   "cell_type": "markdown",
   "id": "190f5fd7",
   "metadata": {},
   "source": [
    "#### Example\n",
    "Show that the MA(2) model given by $X_t=\\epsilon_t+0.5\\epsilon_{t-1}+0.06\\epsilon_{t-2}$ is invertible!"
   ]
  },
  {
   "cell_type": "markdown",
   "id": "dd2960f2",
   "metadata": {},
   "source": [
    "#### Solution\n",
    "Let $\\theta(B)=1+0.5B+0.06B^2$. It is clear that $\\theta(B)=(1+0.2B)(1+0.3B)$. \n",
    "\n",
    "Then, the roots of $\\theta(B)$ are $-5$ and $-10/3$, which are outside the unit circle. Hence the above MA(2) model is invertible."
   ]
  },
  {
   "cell_type": "markdown",
   "id": "31822cb4",
   "metadata": {},
   "source": [
    "Furthermore, the invertible solution is:\n",
    "\n",
    "$$\n",
    "\\begin{align}\n",
    "\\epsilon_t \n",
    "&=(1+0.5B+0.06B^2)^{-1}X_t\\\\\n",
    "&=((1+0.2B)(1+0.3B))^{-1} X_t\\\\\n",
    "&=\\left(\\frac{3}{1+0.3B}-\\frac{2}{1+0.2B}\\right) X_t\\\\\n",
    "&= \\sum_{j=0}^{\\infty} (3\\cdot 0.3^j-2\\cdot 0.2^j) X_t\n",
    "\\end{align}\n",
    "$$"
   ]
  },
  {
   "cell_type": "markdown",
   "id": "6cbbc9dd",
   "metadata": {},
   "source": [
    "#### Note\n",
    "In the case of MA(2) with polynomial $\\theta(z)=1+\\theta_1 z + \\theta_2 z^2$, it can bee seen that the polynomial has roots outside the unit circle if it satisfies all of the following :\n",
    "- $|\\theta_2|<1$\n",
    "- $\\theta_2 + \\theta_1 > -1$\n",
    "- $\\theta_2 - \\theta_1 > -1$"
   ]
  },
  {
   "cell_type": "markdown",
   "id": "5f3b810c",
   "metadata": {},
   "source": [
    "#### Harder Example\n",
    "Show whether the following MA model is invertible or not:\n",
    "\n",
    "$X_t = \\epsilon_t - 0.2\\epsilon_{t-1}+0.6\\epsilon_{t-2} - 0.1\\epsilon_{t-3}+0.1\\epsilon_{t-4}+0.2\\epsilon_{t-5}$"
   ]
  },
  {
   "cell_type": "code",
   "execution_count": 2,
   "id": "43ec972c",
   "metadata": {},
   "outputs": [
    {
     "data": {
      "text/plain": [
       "array([1.97706234, 1.36630391, 1.36630391, 1.16393173, 1.16393173])"
      ]
     },
     "execution_count": 2,
     "metadata": {},
     "output_type": "execute_result"
    }
   ],
   "source": [
    "# check the absolute value of the roots\n",
    "import numpy as ny\n",
    "poly = [0.2, 0.1, -0.1, 0.6, -0.2, 1] #Plynomial of MA Model above\n",
    "roots = ny.roots(poly)\n",
    "abs(roots)"
   ]
  },
  {
   "cell_type": "markdown",
   "id": "aa63a5c9",
   "metadata": {},
   "source": [
    "Since all of roots are outside of the unit circle, therefore the MA model above is invertible."
   ]
  }
 ],
 "metadata": {
  "kernelspec": {
   "display_name": "Python 3 (ipykernel)",
   "language": "python",
   "name": "python3"
  },
  "language_info": {
   "codemirror_mode": {
    "name": "ipython",
    "version": 3
   },
   "file_extension": ".py",
   "mimetype": "text/x-python",
   "name": "python",
   "nbconvert_exporter": "python",
   "pygments_lexer": "ipython3",
   "version": "3.10.9"
  }
 },
 "nbformat": 4,
 "nbformat_minor": 5
}
